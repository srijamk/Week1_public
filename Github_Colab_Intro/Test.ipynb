{
  "nbformat": 4,
  "nbformat_minor": 0,
  "metadata": {
    "colab": {
<<<<<<< HEAD
      "name": "Test.ipynb",
      "version": "0.3.2",
      "provenance": []
=======
      "name": "Copy of Test.ipynb",
      "version": "0.3.2",
      "views": {},
      "default_view": {},
      "provenance": [
        {
          "file_id": "https://github.com/BeaverWorksMedlytics/Week1_public/blob/master/Github_Colab_Intro/Test.ipynb",
          "timestamp": 1531229867222
        }
      ]
>>>>>>> upstream/master
    },
    "kernelspec": {
      "display_name": "Python 3",
      "language": "python",
      "name": "python3"
    }
  },
  "cells": [
    {
      "metadata": {
<<<<<<< HEAD
        "id": "zkzmnRS5Valz",
        "colab_type": "code",
        "colab": {
          "base_uri": "https://localhost:8080/",
          "height": 17
        },
        "outputId": "75157ed3-6127-4eb2-eaca-62316bad03f4"
      },
      "cell_type": "code",
      "source": [
        "print(\"Hello World\")"
=======
        "id": "V9NF3S0rZ6_K",
        "colab_type": "code",
        "colab": {
          "autoexec": {
            "startup": false,
            "wait_interval": 0
          }
        }
      },
      "cell_type": "code",
      "source": [
        "# Hey, the upstream repository was updated!\n",
        "\n",
        "print(\"Oh no!\")"
>>>>>>> upstream/master
      ],
      "execution_count": 0,
      "outputs": []
    }
  ]
}